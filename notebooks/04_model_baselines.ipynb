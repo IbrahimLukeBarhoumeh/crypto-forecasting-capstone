{
 "cells": [
  {
   "cell_type": "code",
   "execution_count": 6,
   "metadata": {},
   "outputs": [
    {
     "name": "stdout",
     "output_type": "stream",
     "text": [
      "\n",
      "=== Multi-Horizon Baseline for Aave ===\n"
     ]
    },
    {
     "name": "stderr",
     "output_type": "stream",
     "text": [
      "c:\\Users\\lukeb\\crypto-forecasting-capstone\\venv\\lib\\site-packages\\statsmodels\\tsa\\statespace\\sarimax.py:978: UserWarning: Non-invertible starting MA parameters found. Using zeros as starting parameters.\n",
      "  warn('Non-invertible starting MA parameters found.'\n",
      "c:\\Users\\lukeb\\crypto-forecasting-capstone\\venv\\lib\\site-packages\\statsmodels\\tsa\\statespace\\sarimax.py:978: UserWarning: Non-invertible starting MA parameters found. Using zeros as starting parameters.\n",
      "  warn('Non-invertible starting MA parameters found.'\n",
      "c:\\Users\\lukeb\\crypto-forecasting-capstone\\venv\\lib\\site-packages\\statsmodels\\tsa\\statespace\\sarimax.py:966: UserWarning: Non-stationary starting autoregressive parameters found. Using zeros as starting parameters.\n",
      "  warn('Non-stationary starting autoregressive parameters'\n",
      "c:\\Users\\lukeb\\crypto-forecasting-capstone\\venv\\lib\\site-packages\\statsmodels\\tsa\\statespace\\sarimax.py:978: UserWarning: Non-invertible starting MA parameters found. Using zeros as starting parameters.\n",
      "  warn('Non-invertible starting MA parameters found.'\n",
      "c:\\Users\\lukeb\\crypto-forecasting-capstone\\venv\\lib\\site-packages\\statsmodels\\tsa\\statespace\\sarimax.py:966: UserWarning: Non-stationary starting autoregressive parameters found. Using zeros as starting parameters.\n",
      "  warn('Non-stationary starting autoregressive parameters'\n",
      "c:\\Users\\lukeb\\crypto-forecasting-capstone\\venv\\lib\\site-packages\\statsmodels\\tsa\\statespace\\sarimax.py:978: UserWarning: Non-invertible starting MA parameters found. Using zeros as starting parameters.\n",
      "  warn('Non-invertible starting MA parameters found.'\n",
      "c:\\Users\\lukeb\\crypto-forecasting-capstone\\venv\\lib\\site-packages\\statsmodels\\tsa\\statespace\\sarimax.py:966: UserWarning: Non-stationary starting autoregressive parameters found. Using zeros as starting parameters.\n",
      "  warn('Non-stationary starting autoregressive parameters'\n",
      "c:\\Users\\lukeb\\crypto-forecasting-capstone\\venv\\lib\\site-packages\\statsmodels\\tsa\\statespace\\sarimax.py:978: UserWarning: Non-invertible starting MA parameters found. Using zeros as starting parameters.\n",
      "  warn('Non-invertible starting MA parameters found.'\n"
     ]
    },
    {
     "name": "stdout",
     "output_type": "stream",
     "text": [
      "Aave - Close_t+1: NaiveRMSE=18.27, ARIMARMSE=31.15\n",
      "Aave - Close_t+7: NaiveRMSE=37.91, ARIMARMSE=26.02\n",
      "Aave - Close_t+30: NaiveRMSE=63.20, ARIMARMSE=70.79\n",
      "Aave - Close_t+90: NaiveRMSE=110.12, ARIMARMSE=101.00\n",
      "\n",
      "=== Multi-Horizon Baseline for BinanceCoin ===\n"
     ]
    },
    {
     "name": "stderr",
     "output_type": "stream",
     "text": [
      "c:\\Users\\lukeb\\crypto-forecasting-capstone\\venv\\lib\\site-packages\\statsmodels\\tsa\\statespace\\sarimax.py:978: UserWarning: Non-invertible starting MA parameters found. Using zeros as starting parameters.\n",
      "  warn('Non-invertible starting MA parameters found.'\n",
      "c:\\Users\\lukeb\\crypto-forecasting-capstone\\venv\\lib\\site-packages\\statsmodels\\tsa\\statespace\\sarimax.py:978: UserWarning: Non-invertible starting MA parameters found. Using zeros as starting parameters.\n",
      "  warn('Non-invertible starting MA parameters found.'\n",
      "c:\\Users\\lukeb\\crypto-forecasting-capstone\\venv\\lib\\site-packages\\statsmodels\\tsa\\statespace\\sarimax.py:966: UserWarning: Non-stationary starting autoregressive parameters found. Using zeros as starting parameters.\n",
      "  warn('Non-stationary starting autoregressive parameters'\n",
      "c:\\Users\\lukeb\\crypto-forecasting-capstone\\venv\\lib\\site-packages\\statsmodels\\tsa\\statespace\\sarimax.py:978: UserWarning: Non-invertible starting MA parameters found. Using zeros as starting parameters.\n",
      "  warn('Non-invertible starting MA parameters found.'\n",
      "c:\\Users\\lukeb\\crypto-forecasting-capstone\\venv\\lib\\site-packages\\statsmodels\\base\\model.py:607: ConvergenceWarning: Maximum Likelihood optimization failed to converge. Check mle_retvals\n",
      "  warnings.warn(\"Maximum Likelihood optimization failed to \"\n"
     ]
    },
    {
     "name": "stdout",
     "output_type": "stream",
     "text": [
      "BinanceCoin - Close_t+1: NaiveRMSE=13.63, ARIMARMSE=115.62\n",
      "BinanceCoin - Close_t+7: NaiveRMSE=40.09, ARIMARMSE=138.55\n",
      "BinanceCoin - Close_t+30: NaiveRMSE=112.77, ARIMARMSE=213.25\n",
      "BinanceCoin - Close_t+90: NaiveRMSE=227.23, ARIMARMSE=278.97\n",
      "\n",
      "=== Multi-Horizon Baseline for Bitcoin ===\n"
     ]
    },
    {
     "name": "stderr",
     "output_type": "stream",
     "text": [
      "c:\\Users\\lukeb\\crypto-forecasting-capstone\\venv\\lib\\site-packages\\statsmodels\\tsa\\statespace\\sarimax.py:978: UserWarning: Non-invertible starting MA parameters found. Using zeros as starting parameters.\n",
      "  warn('Non-invertible starting MA parameters found.'\n",
      "c:\\Users\\lukeb\\crypto-forecasting-capstone\\venv\\lib\\site-packages\\statsmodels\\tsa\\statespace\\sarimax.py:966: UserWarning: Non-stationary starting autoregressive parameters found. Using zeros as starting parameters.\n",
      "  warn('Non-stationary starting autoregressive parameters'\n",
      "c:\\Users\\lukeb\\crypto-forecasting-capstone\\venv\\lib\\site-packages\\statsmodels\\tsa\\statespace\\sarimax.py:978: UserWarning: Non-invertible starting MA parameters found. Using zeros as starting parameters.\n",
      "  warn('Non-invertible starting MA parameters found.'\n",
      "c:\\Users\\lukeb\\crypto-forecasting-capstone\\venv\\lib\\site-packages\\statsmodels\\tsa\\statespace\\sarimax.py:966: UserWarning: Non-stationary starting autoregressive parameters found. Using zeros as starting parameters.\n",
      "  warn('Non-stationary starting autoregressive parameters'\n",
      "c:\\Users\\lukeb\\crypto-forecasting-capstone\\venv\\lib\\site-packages\\statsmodels\\tsa\\statespace\\sarimax.py:978: UserWarning: Non-invertible starting MA parameters found. Using zeros as starting parameters.\n",
      "  warn('Non-invertible starting MA parameters found.'\n",
      "c:\\Users\\lukeb\\crypto-forecasting-capstone\\venv\\lib\\site-packages\\statsmodels\\base\\model.py:607: ConvergenceWarning: Maximum Likelihood optimization failed to converge. Check mle_retvals\n",
      "  warnings.warn(\"Maximum Likelihood optimization failed to \"\n"
     ]
    },
    {
     "name": "stdout",
     "output_type": "stream",
     "text": [
      "Bitcoin - Close_t+1: NaiveRMSE=902.24, ARIMARMSE=15788.44\n",
      "Bitcoin - Close_t+7: NaiveRMSE=2590.01, ARIMARMSE=16604.60\n",
      "Bitcoin - Close_t+30: NaiveRMSE=5575.82, ARIMARMSE=18916.86\n",
      "Bitcoin - Close_t+90: NaiveRMSE=14373.22, ARIMARMSE=21099.40\n",
      "\n",
      "=== Multi-Horizon Baseline for Cardano ===\n"
     ]
    },
    {
     "name": "stderr",
     "output_type": "stream",
     "text": [
      "c:\\Users\\lukeb\\crypto-forecasting-capstone\\venv\\lib\\site-packages\\statsmodels\\tsa\\statespace\\sarimax.py:978: UserWarning: Non-invertible starting MA parameters found. Using zeros as starting parameters.\n",
      "  warn('Non-invertible starting MA parameters found.'\n",
      "c:\\Users\\lukeb\\crypto-forecasting-capstone\\venv\\lib\\site-packages\\statsmodels\\tsa\\statespace\\sarimax.py:978: UserWarning: Non-invertible starting MA parameters found. Using zeros as starting parameters.\n",
      "  warn('Non-invertible starting MA parameters found.'\n",
      "c:\\Users\\lukeb\\crypto-forecasting-capstone\\venv\\lib\\site-packages\\statsmodels\\base\\model.py:607: ConvergenceWarning: Maximum Likelihood optimization failed to converge. Check mle_retvals\n",
      "  warnings.warn(\"Maximum Likelihood optimization failed to \"\n",
      "c:\\Users\\lukeb\\crypto-forecasting-capstone\\venv\\lib\\site-packages\\statsmodels\\base\\model.py:607: ConvergenceWarning: Maximum Likelihood optimization failed to converge. Check mle_retvals\n",
      "  warnings.warn(\"Maximum Likelihood optimization failed to \"\n",
      "c:\\Users\\lukeb\\crypto-forecasting-capstone\\venv\\lib\\site-packages\\statsmodels\\base\\model.py:607: ConvergenceWarning: Maximum Likelihood optimization failed to converge. Check mle_retvals\n",
      "  warnings.warn(\"Maximum Likelihood optimization failed to \"\n",
      "c:\\Users\\lukeb\\crypto-forecasting-capstone\\venv\\lib\\site-packages\\statsmodels\\tsa\\statespace\\sarimax.py:966: UserWarning: Non-stationary starting autoregressive parameters found. Using zeros as starting parameters.\n",
      "  warn('Non-stationary starting autoregressive parameters'\n",
      "c:\\Users\\lukeb\\crypto-forecasting-capstone\\venv\\lib\\site-packages\\statsmodels\\tsa\\statespace\\sarimax.py:978: UserWarning: Non-invertible starting MA parameters found. Using zeros as starting parameters.\n",
      "  warn('Non-invertible starting MA parameters found.'\n",
      "c:\\Users\\lukeb\\crypto-forecasting-capstone\\venv\\lib\\site-packages\\statsmodels\\base\\model.py:607: ConvergenceWarning: Maximum Likelihood optimization failed to converge. Check mle_retvals\n",
      "  warnings.warn(\"Maximum Likelihood optimization failed to \"\n",
      "c:\\Users\\lukeb\\crypto-forecasting-capstone\\venv\\lib\\site-packages\\statsmodels\\base\\model.py:607: ConvergenceWarning: Maximum Likelihood optimization failed to converge. Check mle_retvals\n",
      "  warnings.warn(\"Maximum Likelihood optimization failed to \"\n"
     ]
    },
    {
     "name": "stdout",
     "output_type": "stream",
     "text": [
      "Cardano - Close_t+1: NaiveRMSE=0.04, ARIMARMSE=0.48\n",
      "Cardano - Close_t+7: NaiveRMSE=0.10, ARIMARMSE=0.51\n",
      "Cardano - Close_t+30: NaiveRMSE=0.27, ARIMARMSE=0.62\n",
      "Cardano - Close_t+90: NaiveRMSE=0.64, ARIMARMSE=0.94\n",
      "\n",
      "=== Multi-Horizon Baseline for ChainLink ===\n"
     ]
    },
    {
     "name": "stderr",
     "output_type": "stream",
     "text": [
      "c:\\Users\\lukeb\\crypto-forecasting-capstone\\venv\\lib\\site-packages\\statsmodels\\tsa\\statespace\\sarimax.py:978: UserWarning: Non-invertible starting MA parameters found. Using zeros as starting parameters.\n",
      "  warn('Non-invertible starting MA parameters found.'\n",
      "c:\\Users\\lukeb\\crypto-forecasting-capstone\\venv\\lib\\site-packages\\statsmodels\\tsa\\statespace\\sarimax.py:978: UserWarning: Non-invertible starting MA parameters found. Using zeros as starting parameters.\n",
      "  warn('Non-invertible starting MA parameters found.'\n",
      "c:\\Users\\lukeb\\crypto-forecasting-capstone\\venv\\lib\\site-packages\\statsmodels\\tsa\\statespace\\sarimax.py:966: UserWarning: Non-stationary starting autoregressive parameters found. Using zeros as starting parameters.\n",
      "  warn('Non-stationary starting autoregressive parameters'\n",
      "c:\\Users\\lukeb\\crypto-forecasting-capstone\\venv\\lib\\site-packages\\statsmodels\\tsa\\statespace\\sarimax.py:966: UserWarning: Non-stationary starting autoregressive parameters found. Using zeros as starting parameters.\n",
      "  warn('Non-stationary starting autoregressive parameters'\n",
      "c:\\Users\\lukeb\\crypto-forecasting-capstone\\venv\\lib\\site-packages\\statsmodels\\tsa\\statespace\\sarimax.py:966: UserWarning: Non-stationary starting autoregressive parameters found. Using zeros as starting parameters.\n",
      "  warn('Non-stationary starting autoregressive parameters'\n",
      "c:\\Users\\lukeb\\crypto-forecasting-capstone\\venv\\lib\\site-packages\\statsmodels\\base\\model.py:607: ConvergenceWarning: Maximum Likelihood optimization failed to converge. Check mle_retvals\n",
      "  warnings.warn(\"Maximum Likelihood optimization failed to \"\n",
      "c:\\Users\\lukeb\\crypto-forecasting-capstone\\venv\\lib\\site-packages\\statsmodels\\tsa\\statespace\\sarimax.py:966: UserWarning: Non-stationary starting autoregressive parameters found. Using zeros as starting parameters.\n",
      "  warn('Non-stationary starting autoregressive parameters'\n",
      "c:\\Users\\lukeb\\crypto-forecasting-capstone\\venv\\lib\\site-packages\\statsmodels\\tsa\\statespace\\sarimax.py:966: UserWarning: Non-stationary starting autoregressive parameters found. Using zeros as starting parameters.\n",
      "  warn('Non-stationary starting autoregressive parameters'\n",
      "c:\\Users\\lukeb\\crypto-forecasting-capstone\\venv\\lib\\site-packages\\statsmodels\\tsa\\statespace\\sarimax.py:978: UserWarning: Non-invertible starting MA parameters found. Using zeros as starting parameters.\n",
      "  warn('Non-invertible starting MA parameters found.'\n",
      "c:\\Users\\lukeb\\crypto-forecasting-capstone\\venv\\lib\\site-packages\\statsmodels\\base\\model.py:607: ConvergenceWarning: Maximum Likelihood optimization failed to converge. Check mle_retvals\n",
      "  warnings.warn(\"Maximum Likelihood optimization failed to \"\n",
      "c:\\Users\\lukeb\\crypto-forecasting-capstone\\venv\\lib\\site-packages\\statsmodels\\tsa\\statespace\\sarimax.py:966: UserWarning: Non-stationary starting autoregressive parameters found. Using zeros as starting parameters.\n",
      "  warn('Non-stationary starting autoregressive parameters'\n",
      "c:\\Users\\lukeb\\crypto-forecasting-capstone\\venv\\lib\\site-packages\\statsmodels\\tsa\\statespace\\sarimax.py:978: UserWarning: Non-invertible starting MA parameters found. Using zeros as starting parameters.\n",
      "  warn('Non-invertible starting MA parameters found.'\n"
     ]
    },
    {
     "name": "stdout",
     "output_type": "stream",
     "text": [
      "ChainLink - Close_t+1: NaiveRMSE=1.28, ARIMARMSE=12.53\n",
      "ChainLink - Close_t+7: NaiveRMSE=3.05, ARIMARMSE=13.21\n",
      "ChainLink - Close_t+30: NaiveRMSE=6.33, ARIMARMSE=16.23\n",
      "ChainLink - Close_t+90: NaiveRMSE=11.75, ARIMARMSE=19.29\n",
      "\n",
      "=== Multi-Horizon Baseline for Cosmos ===\n"
     ]
    },
    {
     "name": "stderr",
     "output_type": "stream",
     "text": [
      "c:\\Users\\lukeb\\crypto-forecasting-capstone\\venv\\lib\\site-packages\\statsmodels\\tsa\\statespace\\sarimax.py:966: UserWarning: Non-stationary starting autoregressive parameters found. Using zeros as starting parameters.\n",
      "  warn('Non-stationary starting autoregressive parameters'\n",
      "c:\\Users\\lukeb\\crypto-forecasting-capstone\\venv\\lib\\site-packages\\statsmodels\\tsa\\statespace\\sarimax.py:978: UserWarning: Non-invertible starting MA parameters found. Using zeros as starting parameters.\n",
      "  warn('Non-invertible starting MA parameters found.'\n",
      "c:\\Users\\lukeb\\crypto-forecasting-capstone\\venv\\lib\\site-packages\\statsmodels\\base\\model.py:607: ConvergenceWarning: Maximum Likelihood optimization failed to converge. Check mle_retvals\n",
      "  warnings.warn(\"Maximum Likelihood optimization failed to \"\n"
     ]
    },
    {
     "name": "stdout",
     "output_type": "stream",
     "text": [
      "Cosmos - Close_t+1: NaiveRMSE=0.94, ARIMARMSE=10.35\n",
      "Cosmos - Close_t+7: NaiveRMSE=2.75, ARIMARMSE=11.03\n",
      "Cosmos - Close_t+30: NaiveRMSE=5.83, ARIMARMSE=13.23\n",
      "Cosmos - Close_t+90: NaiveRMSE=12.38, ARIMARMSE=14.90\n",
      "\n",
      "=== Multi-Horizon Baseline for CryptocomCoin ===\n"
     ]
    },
    {
     "name": "stderr",
     "output_type": "stream",
     "text": [
      "c:\\Users\\lukeb\\crypto-forecasting-capstone\\venv\\lib\\site-packages\\statsmodels\\tsa\\statespace\\sarimax.py:978: UserWarning: Non-invertible starting MA parameters found. Using zeros as starting parameters.\n",
      "  warn('Non-invertible starting MA parameters found.'\n",
      "c:\\Users\\lukeb\\crypto-forecasting-capstone\\venv\\lib\\site-packages\\statsmodels\\base\\model.py:607: ConvergenceWarning: Maximum Likelihood optimization failed to converge. Check mle_retvals\n",
      "  warnings.warn(\"Maximum Likelihood optimization failed to \"\n",
      "c:\\Users\\lukeb\\crypto-forecasting-capstone\\venv\\lib\\site-packages\\statsmodels\\base\\model.py:607: ConvergenceWarning: Maximum Likelihood optimization failed to converge. Check mle_retvals\n",
      "  warnings.warn(\"Maximum Likelihood optimization failed to \"\n",
      "c:\\Users\\lukeb\\crypto-forecasting-capstone\\venv\\lib\\site-packages\\statsmodels\\base\\model.py:607: ConvergenceWarning: Maximum Likelihood optimization failed to converge. Check mle_retvals\n",
      "  warnings.warn(\"Maximum Likelihood optimization failed to \"\n",
      "c:\\Users\\lukeb\\crypto-forecasting-capstone\\venv\\lib\\site-packages\\statsmodels\\base\\model.py:607: ConvergenceWarning: Maximum Likelihood optimization failed to converge. Check mle_retvals\n",
      "  warnings.warn(\"Maximum Likelihood optimization failed to \"\n",
      "c:\\Users\\lukeb\\crypto-forecasting-capstone\\venv\\lib\\site-packages\\statsmodels\\tsa\\statespace\\sarimax.py:966: UserWarning: Non-stationary starting autoregressive parameters found. Using zeros as starting parameters.\n",
      "  warn('Non-stationary starting autoregressive parameters'\n",
      "c:\\Users\\lukeb\\crypto-forecasting-capstone\\venv\\lib\\site-packages\\statsmodels\\tsa\\statespace\\sarimax.py:978: UserWarning: Non-invertible starting MA parameters found. Using zeros as starting parameters.\n",
      "  warn('Non-invertible starting MA parameters found.'\n",
      "c:\\Users\\lukeb\\crypto-forecasting-capstone\\venv\\lib\\site-packages\\statsmodels\\tsa\\statespace\\sarimax.py:966: UserWarning: Non-stationary starting autoregressive parameters found. Using zeros as starting parameters.\n",
      "  warn('Non-stationary starting autoregressive parameters'\n",
      "c:\\Users\\lukeb\\crypto-forecasting-capstone\\venv\\lib\\site-packages\\statsmodels\\tsa\\statespace\\sarimax.py:978: UserWarning: Non-invertible starting MA parameters found. Using zeros as starting parameters.\n",
      "  warn('Non-invertible starting MA parameters found.'\n",
      "c:\\Users\\lukeb\\crypto-forecasting-capstone\\venv\\lib\\site-packages\\statsmodels\\base\\model.py:607: ConvergenceWarning: Maximum Likelihood optimization failed to converge. Check mle_retvals\n",
      "  warnings.warn(\"Maximum Likelihood optimization failed to \"\n",
      "c:\\Users\\lukeb\\crypto-forecasting-capstone\\venv\\lib\\site-packages\\statsmodels\\tsa\\statespace\\sarimax.py:966: UserWarning: Non-stationary starting autoregressive parameters found. Using zeros as starting parameters.\n",
      "  warn('Non-stationary starting autoregressive parameters'\n",
      "c:\\Users\\lukeb\\crypto-forecasting-capstone\\venv\\lib\\site-packages\\statsmodels\\tsa\\statespace\\sarimax.py:978: UserWarning: Non-invertible starting MA parameters found. Using zeros as starting parameters.\n",
      "  warn('Non-invertible starting MA parameters found.'\n"
     ]
    },
    {
     "name": "stdout",
     "output_type": "stream",
     "text": [
      "CryptocomCoin - Close_t+1: NaiveRMSE=0.01, ARIMARMSE=0.06\n",
      "CryptocomCoin - Close_t+7: NaiveRMSE=0.02, ARIMARMSE=0.07\n",
      "CryptocomCoin - Close_t+30: NaiveRMSE=0.05, ARIMARMSE=0.08\n",
      "CryptocomCoin - Close_t+90: NaiveRMSE=0.10, ARIMARMSE=0.08\n",
      "\n",
      "=== Multi-Horizon Baseline for Dogecoin ===\n"
     ]
    },
    {
     "name": "stderr",
     "output_type": "stream",
     "text": [
      "c:\\Users\\lukeb\\crypto-forecasting-capstone\\venv\\lib\\site-packages\\statsmodels\\tsa\\statespace\\sarimax.py:978: UserWarning: Non-invertible starting MA parameters found. Using zeros as starting parameters.\n",
      "  warn('Non-invertible starting MA parameters found.'\n",
      "c:\\Users\\lukeb\\crypto-forecasting-capstone\\venv\\lib\\site-packages\\statsmodels\\tsa\\statespace\\sarimax.py:978: UserWarning: Non-invertible starting MA parameters found. Using zeros as starting parameters.\n",
      "  warn('Non-invertible starting MA parameters found.'\n",
      "c:\\Users\\lukeb\\crypto-forecasting-capstone\\venv\\lib\\site-packages\\statsmodels\\base\\model.py:607: ConvergenceWarning: Maximum Likelihood optimization failed to converge. Check mle_retvals\n",
      "  warnings.warn(\"Maximum Likelihood optimization failed to \"\n",
      "c:\\Users\\lukeb\\crypto-forecasting-capstone\\venv\\lib\\site-packages\\statsmodels\\base\\model.py:607: ConvergenceWarning: Maximum Likelihood optimization failed to converge. Check mle_retvals\n",
      "  warnings.warn(\"Maximum Likelihood optimization failed to \"\n",
      "c:\\Users\\lukeb\\crypto-forecasting-capstone\\venv\\lib\\site-packages\\statsmodels\\base\\model.py:607: ConvergenceWarning: Maximum Likelihood optimization failed to converge. Check mle_retvals\n",
      "  warnings.warn(\"Maximum Likelihood optimization failed to \"\n",
      "c:\\Users\\lukeb\\crypto-forecasting-capstone\\venv\\lib\\site-packages\\statsmodels\\base\\model.py:607: ConvergenceWarning: Maximum Likelihood optimization failed to converge. Check mle_retvals\n",
      "  warnings.warn(\"Maximum Likelihood optimization failed to \"\n",
      "c:\\Users\\lukeb\\crypto-forecasting-capstone\\venv\\lib\\site-packages\\statsmodels\\base\\model.py:607: ConvergenceWarning: Maximum Likelihood optimization failed to converge. Check mle_retvals\n",
      "  warnings.warn(\"Maximum Likelihood optimization failed to \"\n",
      "c:\\Users\\lukeb\\crypto-forecasting-capstone\\venv\\lib\\site-packages\\statsmodels\\base\\model.py:607: ConvergenceWarning: Maximum Likelihood optimization failed to converge. Check mle_retvals\n",
      "  warnings.warn(\"Maximum Likelihood optimization failed to \"\n",
      "c:\\Users\\lukeb\\crypto-forecasting-capstone\\venv\\lib\\site-packages\\statsmodels\\base\\model.py:607: ConvergenceWarning: Maximum Likelihood optimization failed to converge. Check mle_retvals\n",
      "  warnings.warn(\"Maximum Likelihood optimization failed to \"\n",
      "c:\\Users\\lukeb\\crypto-forecasting-capstone\\venv\\lib\\site-packages\\statsmodels\\base\\model.py:607: ConvergenceWarning: Maximum Likelihood optimization failed to converge. Check mle_retvals\n",
      "  warnings.warn(\"Maximum Likelihood optimization failed to \"\n",
      "c:\\Users\\lukeb\\crypto-forecasting-capstone\\venv\\lib\\site-packages\\statsmodels\\base\\model.py:607: ConvergenceWarning: Maximum Likelihood optimization failed to converge. Check mle_retvals\n",
      "  warnings.warn(\"Maximum Likelihood optimization failed to \"\n",
      "c:\\Users\\lukeb\\crypto-forecasting-capstone\\venv\\lib\\site-packages\\statsmodels\\base\\model.py:607: ConvergenceWarning: Maximum Likelihood optimization failed to converge. Check mle_retvals\n",
      "  warnings.warn(\"Maximum Likelihood optimization failed to \"\n",
      "c:\\Users\\lukeb\\crypto-forecasting-capstone\\venv\\lib\\site-packages\\statsmodels\\base\\model.py:607: ConvergenceWarning: Maximum Likelihood optimization failed to converge. Check mle_retvals\n",
      "  warnings.warn(\"Maximum Likelihood optimization failed to \"\n",
      "c:\\Users\\lukeb\\crypto-forecasting-capstone\\venv\\lib\\site-packages\\statsmodels\\tsa\\statespace\\sarimax.py:966: UserWarning: Non-stationary starting autoregressive parameters found. Using zeros as starting parameters.\n",
      "  warn('Non-stationary starting autoregressive parameters'\n",
      "c:\\Users\\lukeb\\crypto-forecasting-capstone\\venv\\lib\\site-packages\\statsmodels\\tsa\\statespace\\sarimax.py:978: UserWarning: Non-invertible starting MA parameters found. Using zeros as starting parameters.\n",
      "  warn('Non-invertible starting MA parameters found.'\n",
      "c:\\Users\\lukeb\\crypto-forecasting-capstone\\venv\\lib\\site-packages\\statsmodels\\base\\model.py:607: ConvergenceWarning: Maximum Likelihood optimization failed to converge. Check mle_retvals\n",
      "  warnings.warn(\"Maximum Likelihood optimization failed to \"\n",
      "c:\\Users\\lukeb\\crypto-forecasting-capstone\\venv\\lib\\site-packages\\statsmodels\\tsa\\statespace\\sarimax.py:966: UserWarning: Non-stationary starting autoregressive parameters found. Using zeros as starting parameters.\n",
      "  warn('Non-stationary starting autoregressive parameters'\n",
      "c:\\Users\\lukeb\\crypto-forecasting-capstone\\venv\\lib\\site-packages\\statsmodels\\tsa\\statespace\\sarimax.py:978: UserWarning: Non-invertible starting MA parameters found. Using zeros as starting parameters.\n",
      "  warn('Non-invertible starting MA parameters found.'\n",
      "c:\\Users\\lukeb\\crypto-forecasting-capstone\\venv\\lib\\site-packages\\statsmodels\\base\\model.py:607: ConvergenceWarning: Maximum Likelihood optimization failed to converge. Check mle_retvals\n",
      "  warnings.warn(\"Maximum Likelihood optimization failed to \"\n",
      "c:\\Users\\lukeb\\crypto-forecasting-capstone\\venv\\lib\\site-packages\\statsmodels\\base\\model.py:607: ConvergenceWarning: Maximum Likelihood optimization failed to converge. Check mle_retvals\n",
      "  warnings.warn(\"Maximum Likelihood optimization failed to \"\n"
     ]
    },
    {
     "name": "stdout",
     "output_type": "stream",
     "text": [
      "Dogecoin - Close_t+1: NaiveRMSE=0.00, ARIMARMSE=0.02\n",
      "Dogecoin - Close_t+7: NaiveRMSE=0.01, ARIMARMSE=0.02\n",
      "Dogecoin - Close_t+30: NaiveRMSE=0.07, ARIMARMSE=0.08\n",
      "Dogecoin - Close_t+90: NaiveRMSE=0.13, ARIMARMSE=0.15\n",
      "\n",
      "=== Multi-Horizon Baseline for EOS ===\n"
     ]
    },
    {
     "name": "stderr",
     "output_type": "stream",
     "text": [
      "c:\\Users\\lukeb\\crypto-forecasting-capstone\\venv\\lib\\site-packages\\statsmodels\\base\\model.py:607: ConvergenceWarning: Maximum Likelihood optimization failed to converge. Check mle_retvals\n",
      "  warnings.warn(\"Maximum Likelihood optimization failed to \"\n",
      "c:\\Users\\lukeb\\crypto-forecasting-capstone\\venv\\lib\\site-packages\\statsmodels\\tsa\\statespace\\sarimax.py:978: UserWarning: Non-invertible starting MA parameters found. Using zeros as starting parameters.\n",
      "  warn('Non-invertible starting MA parameters found.'\n"
     ]
    },
    {
     "name": "stdout",
     "output_type": "stream",
     "text": [
      "EOS - Close_t+1: NaiveRMSE=0.22, ARIMARMSE=0.98\n",
      "EOS - Close_t+7: NaiveRMSE=0.55, ARIMARMSE=1.16\n",
      "EOS - Close_t+30: NaiveRMSE=1.17, ARIMARMSE=1.76\n",
      "EOS - Close_t+90: NaiveRMSE=2.20, ARIMARMSE=2.60\n",
      "\n",
      "=== Multi-Horizon Baseline for Ethereum ===\n"
     ]
    },
    {
     "name": "stderr",
     "output_type": "stream",
     "text": [
      "c:\\Users\\lukeb\\crypto-forecasting-capstone\\venv\\lib\\site-packages\\statsmodels\\tsa\\statespace\\sarimax.py:978: UserWarning: Non-invertible starting MA parameters found. Using zeros as starting parameters.\n",
      "  warn('Non-invertible starting MA parameters found.'\n",
      "c:\\Users\\lukeb\\crypto-forecasting-capstone\\venv\\lib\\site-packages\\statsmodels\\tsa\\statespace\\sarimax.py:966: UserWarning: Non-stationary starting autoregressive parameters found. Using zeros as starting parameters.\n",
      "  warn('Non-stationary starting autoregressive parameters'\n",
      "c:\\Users\\lukeb\\crypto-forecasting-capstone\\venv\\lib\\site-packages\\statsmodels\\tsa\\statespace\\sarimax.py:978: UserWarning: Non-invertible starting MA parameters found. Using zeros as starting parameters.\n",
      "  warn('Non-invertible starting MA parameters found.'\n",
      "c:\\Users\\lukeb\\crypto-forecasting-capstone\\venv\\lib\\site-packages\\statsmodels\\tsa\\statespace\\sarimax.py:966: UserWarning: Non-stationary starting autoregressive parameters found. Using zeros as starting parameters.\n",
      "  warn('Non-stationary starting autoregressive parameters'\n",
      "c:\\Users\\lukeb\\crypto-forecasting-capstone\\venv\\lib\\site-packages\\statsmodels\\tsa\\statespace\\sarimax.py:978: UserWarning: Non-invertible starting MA parameters found. Using zeros as starting parameters.\n",
      "  warn('Non-invertible starting MA parameters found.'\n",
      "c:\\Users\\lukeb\\crypto-forecasting-capstone\\venv\\lib\\site-packages\\statsmodels\\tsa\\statespace\\sarimax.py:966: UserWarning: Non-stationary starting autoregressive parameters found. Using zeros as starting parameters.\n",
      "  warn('Non-stationary starting autoregressive parameters'\n",
      "c:\\Users\\lukeb\\crypto-forecasting-capstone\\venv\\lib\\site-packages\\statsmodels\\tsa\\statespace\\sarimax.py:978: UserWarning: Non-invertible starting MA parameters found. Using zeros as starting parameters.\n",
      "  warn('Non-invertible starting MA parameters found.'\n",
      "c:\\Users\\lukeb\\crypto-forecasting-capstone\\venv\\lib\\site-packages\\statsmodels\\tsa\\statespace\\sarimax.py:966: UserWarning: Non-stationary starting autoregressive parameters found. Using zeros as starting parameters.\n",
      "  warn('Non-stationary starting autoregressive parameters'\n",
      "c:\\Users\\lukeb\\crypto-forecasting-capstone\\venv\\lib\\site-packages\\statsmodels\\tsa\\statespace\\sarimax.py:978: UserWarning: Non-invertible starting MA parameters found. Using zeros as starting parameters.\n",
      "  warn('Non-invertible starting MA parameters found.'\n"
     ]
    },
    {
     "name": "stdout",
     "output_type": "stream",
     "text": [
      "Ethereum - Close_t+1: NaiveRMSE=44.39, ARIMARMSE=678.14\n",
      "Ethereum - Close_t+7: NaiveRMSE=124.29, ARIMARMSE=717.90\n",
      "Ethereum - Close_t+30: NaiveRMSE=326.50, ARIMARMSE=927.72\n",
      "Ethereum - Close_t+90: NaiveRMSE=757.58, ARIMARMSE=1316.09\n",
      "\n",
      "=== Multi-Horizon Baseline for Iota ===\n"
     ]
    },
    {
     "name": "stderr",
     "output_type": "stream",
     "text": [
      "c:\\Users\\lukeb\\crypto-forecasting-capstone\\venv\\lib\\site-packages\\statsmodels\\tsa\\statespace\\sarimax.py:978: UserWarning: Non-invertible starting MA parameters found. Using zeros as starting parameters.\n",
      "  warn('Non-invertible starting MA parameters found.'\n",
      "c:\\Users\\lukeb\\crypto-forecasting-capstone\\venv\\lib\\site-packages\\statsmodels\\tsa\\statespace\\sarimax.py:978: UserWarning: Non-invertible starting MA parameters found. Using zeros as starting parameters.\n",
      "  warn('Non-invertible starting MA parameters found.'\n",
      "c:\\Users\\lukeb\\crypto-forecasting-capstone\\venv\\lib\\site-packages\\statsmodels\\tsa\\statespace\\sarimax.py:966: UserWarning: Non-stationary starting autoregressive parameters found. Using zeros as starting parameters.\n",
      "  warn('Non-stationary starting autoregressive parameters'\n",
      "c:\\Users\\lukeb\\crypto-forecasting-capstone\\venv\\lib\\site-packages\\statsmodels\\tsa\\statespace\\sarimax.py:978: UserWarning: Non-invertible starting MA parameters found. Using zeros as starting parameters.\n",
      "  warn('Non-invertible starting MA parameters found.'\n",
      "c:\\Users\\lukeb\\crypto-forecasting-capstone\\venv\\lib\\site-packages\\statsmodels\\tsa\\statespace\\sarimax.py:966: UserWarning: Non-stationary starting autoregressive parameters found. Using zeros as starting parameters.\n",
      "  warn('Non-stationary starting autoregressive parameters'\n",
      "c:\\Users\\lukeb\\crypto-forecasting-capstone\\venv\\lib\\site-packages\\statsmodels\\base\\model.py:607: ConvergenceWarning: Maximum Likelihood optimization failed to converge. Check mle_retvals\n",
      "  warnings.warn(\"Maximum Likelihood optimization failed to \"\n",
      "c:\\Users\\lukeb\\crypto-forecasting-capstone\\venv\\lib\\site-packages\\statsmodels\\tsa\\statespace\\sarimax.py:966: UserWarning: Non-stationary starting autoregressive parameters found. Using zeros as starting parameters.\n",
      "  warn('Non-stationary starting autoregressive parameters'\n",
      "c:\\Users\\lukeb\\crypto-forecasting-capstone\\venv\\lib\\site-packages\\statsmodels\\tsa\\statespace\\sarimax.py:978: UserWarning: Non-invertible starting MA parameters found. Using zeros as starting parameters.\n",
      "  warn('Non-invertible starting MA parameters found.'\n",
      "c:\\Users\\lukeb\\crypto-forecasting-capstone\\venv\\lib\\site-packages\\statsmodels\\tsa\\statespace\\sarimax.py:966: UserWarning: Non-stationary starting autoregressive parameters found. Using zeros as starting parameters.\n",
      "  warn('Non-stationary starting autoregressive parameters'\n",
      "c:\\Users\\lukeb\\crypto-forecasting-capstone\\venv\\lib\\site-packages\\statsmodels\\tsa\\statespace\\sarimax.py:978: UserWarning: Non-invertible starting MA parameters found. Using zeros as starting parameters.\n",
      "  warn('Non-invertible starting MA parameters found.'\n",
      "c:\\Users\\lukeb\\crypto-forecasting-capstone\\venv\\lib\\site-packages\\statsmodels\\base\\model.py:607: ConvergenceWarning: Maximum Likelihood optimization failed to converge. Check mle_retvals\n",
      "  warnings.warn(\"Maximum Likelihood optimization failed to \"\n"
     ]
    },
    {
     "name": "stdout",
     "output_type": "stream",
     "text": [
      "Iota - Close_t+1: NaiveRMSE=0.05, ARIMARMSE=0.53\n",
      "Iota - Close_t+7: NaiveRMSE=0.15, ARIMARMSE=0.60\n",
      "Iota - Close_t+30: NaiveRMSE=0.36, ARIMARMSE=0.80\n",
      "Iota - Close_t+90: NaiveRMSE=0.79, ARIMARMSE=0.93\n",
      "\n",
      "=== Multi-Horizon Baseline for Litecoin ===\n"
     ]
    },
    {
     "name": "stderr",
     "output_type": "stream",
     "text": [
      "c:\\Users\\lukeb\\crypto-forecasting-capstone\\venv\\lib\\site-packages\\statsmodels\\tsa\\statespace\\sarimax.py:978: UserWarning: Non-invertible starting MA parameters found. Using zeros as starting parameters.\n",
      "  warn('Non-invertible starting MA parameters found.'\n",
      "c:\\Users\\lukeb\\crypto-forecasting-capstone\\venv\\lib\\site-packages\\statsmodels\\tsa\\statespace\\sarimax.py:978: UserWarning: Non-invertible starting MA parameters found. Using zeros as starting parameters.\n",
      "  warn('Non-invertible starting MA parameters found.'\n",
      "c:\\Users\\lukeb\\crypto-forecasting-capstone\\venv\\lib\\site-packages\\statsmodels\\tsa\\statespace\\sarimax.py:966: UserWarning: Non-stationary starting autoregressive parameters found. Using zeros as starting parameters.\n",
      "  warn('Non-stationary starting autoregressive parameters'\n",
      "c:\\Users\\lukeb\\crypto-forecasting-capstone\\venv\\lib\\site-packages\\statsmodels\\tsa\\statespace\\sarimax.py:978: UserWarning: Non-invertible starting MA parameters found. Using zeros as starting parameters.\n",
      "  warn('Non-invertible starting MA parameters found.'\n",
      "c:\\Users\\lukeb\\crypto-forecasting-capstone\\venv\\lib\\site-packages\\statsmodels\\tsa\\statespace\\sarimax.py:966: UserWarning: Non-stationary starting autoregressive parameters found. Using zeros as starting parameters.\n",
      "  warn('Non-stationary starting autoregressive parameters'\n",
      "c:\\Users\\lukeb\\crypto-forecasting-capstone\\venv\\lib\\site-packages\\statsmodels\\tsa\\statespace\\sarimax.py:978: UserWarning: Non-invertible starting MA parameters found. Using zeros as starting parameters.\n",
      "  warn('Non-invertible starting MA parameters found.'\n"
     ]
    },
    {
     "name": "stdout",
     "output_type": "stream",
     "text": [
      "Litecoin - Close_t+1: NaiveRMSE=5.13, ARIMARMSE=50.49\n",
      "Litecoin - Close_t+7: NaiveRMSE=14.60, ARIMARMSE=53.88\n",
      "Litecoin - Close_t+30: NaiveRMSE=29.77, ARIMARMSE=68.38\n",
      "Litecoin - Close_t+90: NaiveRMSE=59.27, ARIMARMSE=81.69\n",
      "\n",
      "=== Multi-Horizon Baseline for Monero ===\n"
     ]
    },
    {
     "name": "stderr",
     "output_type": "stream",
     "text": [
      "c:\\Users\\lukeb\\crypto-forecasting-capstone\\venv\\lib\\site-packages\\statsmodels\\tsa\\statespace\\sarimax.py:966: UserWarning: Non-stationary starting autoregressive parameters found. Using zeros as starting parameters.\n",
      "  warn('Non-stationary starting autoregressive parameters'\n",
      "c:\\Users\\lukeb\\crypto-forecasting-capstone\\venv\\lib\\site-packages\\statsmodels\\tsa\\statespace\\sarimax.py:978: UserWarning: Non-invertible starting MA parameters found. Using zeros as starting parameters.\n",
      "  warn('Non-invertible starting MA parameters found.'\n",
      "c:\\Users\\lukeb\\crypto-forecasting-capstone\\venv\\lib\\site-packages\\statsmodels\\tsa\\statespace\\sarimax.py:966: UserWarning: Non-stationary starting autoregressive parameters found. Using zeros as starting parameters.\n",
      "  warn('Non-stationary starting autoregressive parameters'\n",
      "c:\\Users\\lukeb\\crypto-forecasting-capstone\\venv\\lib\\site-packages\\statsmodels\\tsa\\statespace\\sarimax.py:978: UserWarning: Non-invertible starting MA parameters found. Using zeros as starting parameters.\n",
      "  warn('Non-invertible starting MA parameters found.'\n"
     ]
    },
    {
     "name": "stdout",
     "output_type": "stream",
     "text": [
      "Monero - Close_t+1: NaiveRMSE=6.06, ARIMARMSE=78.42\n",
      "Monero - Close_t+7: NaiveRMSE=16.59, ARIMARMSE=83.44\n",
      "Monero - Close_t+30: NaiveRMSE=43.56, ARIMARMSE=110.81\n",
      "Monero - Close_t+90: NaiveRMSE=77.50, ARIMARMSE=137.59\n",
      "\n",
      "=== Multi-Horizon Baseline for NEM ===\n"
     ]
    },
    {
     "name": "stderr",
     "output_type": "stream",
     "text": [
      "c:\\Users\\lukeb\\crypto-forecasting-capstone\\venv\\lib\\site-packages\\statsmodels\\base\\model.py:607: ConvergenceWarning: Maximum Likelihood optimization failed to converge. Check mle_retvals\n",
      "  warnings.warn(\"Maximum Likelihood optimization failed to \"\n",
      "c:\\Users\\lukeb\\crypto-forecasting-capstone\\venv\\lib\\site-packages\\statsmodels\\tsa\\statespace\\sarimax.py:978: UserWarning: Non-invertible starting MA parameters found. Using zeros as starting parameters.\n",
      "  warn('Non-invertible starting MA parameters found.'\n",
      "c:\\Users\\lukeb\\crypto-forecasting-capstone\\venv\\lib\\site-packages\\statsmodels\\tsa\\statespace\\sarimax.py:978: UserWarning: Non-invertible starting MA parameters found. Using zeros as starting parameters.\n",
      "  warn('Non-invertible starting MA parameters found.'\n",
      "c:\\Users\\lukeb\\crypto-forecasting-capstone\\venv\\lib\\site-packages\\statsmodels\\base\\model.py:607: ConvergenceWarning: Maximum Likelihood optimization failed to converge. Check mle_retvals\n",
      "  warnings.warn(\"Maximum Likelihood optimization failed to \"\n",
      "c:\\Users\\lukeb\\crypto-forecasting-capstone\\venv\\lib\\site-packages\\statsmodels\\base\\model.py:607: ConvergenceWarning: Maximum Likelihood optimization failed to converge. Check mle_retvals\n",
      "  warnings.warn(\"Maximum Likelihood optimization failed to \"\n",
      "c:\\Users\\lukeb\\crypto-forecasting-capstone\\venv\\lib\\site-packages\\statsmodels\\base\\model.py:607: ConvergenceWarning: Maximum Likelihood optimization failed to converge. Check mle_retvals\n",
      "  warnings.warn(\"Maximum Likelihood optimization failed to \"\n",
      "c:\\Users\\lukeb\\crypto-forecasting-capstone\\venv\\lib\\site-packages\\statsmodels\\tsa\\statespace\\sarimax.py:978: UserWarning: Non-invertible starting MA parameters found. Using zeros as starting parameters.\n",
      "  warn('Non-invertible starting MA parameters found.'\n",
      "c:\\Users\\lukeb\\crypto-forecasting-capstone\\venv\\lib\\site-packages\\statsmodels\\tsa\\statespace\\sarimax.py:978: UserWarning: Non-invertible starting MA parameters found. Using zeros as starting parameters.\n",
      "  warn('Non-invertible starting MA parameters found.'\n"
     ]
    },
    {
     "name": "stdout",
     "output_type": "stream",
     "text": [
      "NEM - Close_t+1: NaiveRMSE=0.02, ARIMARMSE=0.19\n",
      "NEM - Close_t+7: NaiveRMSE=0.06, ARIMARMSE=0.19\n",
      "NEM - Close_t+30: NaiveRMSE=0.11, ARIMARMSE=0.21\n",
      "NEM - Close_t+90: NaiveRMSE=0.18, ARIMARMSE=0.22\n",
      "\n",
      "=== Multi-Horizon Baseline for Polkadot ===\n"
     ]
    },
    {
     "name": "stderr",
     "output_type": "stream",
     "text": [
      "c:\\Users\\lukeb\\crypto-forecasting-capstone\\venv\\lib\\site-packages\\statsmodels\\tsa\\statespace\\sarimax.py:966: UserWarning: Non-stationary starting autoregressive parameters found. Using zeros as starting parameters.\n",
      "  warn('Non-stationary starting autoregressive parameters'\n",
      "c:\\Users\\lukeb\\crypto-forecasting-capstone\\venv\\lib\\site-packages\\statsmodels\\tsa\\statespace\\sarimax.py:966: UserWarning: Non-stationary starting autoregressive parameters found. Using zeros as starting parameters.\n",
      "  warn('Non-stationary starting autoregressive parameters'\n",
      "c:\\Users\\lukeb\\crypto-forecasting-capstone\\venv\\lib\\site-packages\\statsmodels\\tsa\\statespace\\sarimax.py:966: UserWarning: Non-stationary starting autoregressive parameters found. Using zeros as starting parameters.\n",
      "  warn('Non-stationary starting autoregressive parameters'\n",
      "c:\\Users\\lukeb\\crypto-forecasting-capstone\\venv\\lib\\site-packages\\statsmodels\\tsa\\statespace\\sarimax.py:966: UserWarning: Non-stationary starting autoregressive parameters found. Using zeros as starting parameters.\n",
      "  warn('Non-stationary starting autoregressive parameters'\n",
      "c:\\Users\\lukeb\\crypto-forecasting-capstone\\venv\\lib\\site-packages\\statsmodels\\tsa\\statespace\\sarimax.py:966: UserWarning: Non-stationary starting autoregressive parameters found. Using zeros as starting parameters.\n",
      "  warn('Non-stationary starting autoregressive parameters'\n",
      "c:\\Users\\lukeb\\crypto-forecasting-capstone\\venv\\lib\\site-packages\\statsmodels\\tsa\\statespace\\sarimax.py:966: UserWarning: Non-stationary starting autoregressive parameters found. Using zeros as starting parameters.\n",
      "  warn('Non-stationary starting autoregressive parameters'\n",
      "c:\\Users\\lukeb\\crypto-forecasting-capstone\\venv\\lib\\site-packages\\statsmodels\\tsa\\statespace\\sarimax.py:966: UserWarning: Non-stationary starting autoregressive parameters found. Using zeros as starting parameters.\n",
      "  warn('Non-stationary starting autoregressive parameters'\n",
      "c:\\Users\\lukeb\\crypto-forecasting-capstone\\venv\\lib\\site-packages\\statsmodels\\tsa\\statespace\\sarimax.py:978: UserWarning: Non-invertible starting MA parameters found. Using zeros as starting parameters.\n",
      "  warn('Non-invertible starting MA parameters found.'\n"
     ]
    },
    {
     "name": "stdout",
     "output_type": "stream",
     "text": [
      "Polkadot - Close_t+1: NaiveRMSE=1.81, ARIMARMSE=7.79\n",
      "Polkadot - Close_t+7: NaiveRMSE=4.61, ARIMARMSE=6.70\n",
      "Polkadot - Close_t+30: NaiveRMSE=4.81, ARIMARMSE=8.69\n",
      "Polkadot - Close_t+90: NaiveRMSE=17.07, ARIMARMSE=24.20\n",
      "\n",
      "=== Multi-Horizon Baseline for Solana ===\n"
     ]
    },
    {
     "name": "stderr",
     "output_type": "stream",
     "text": [
      "c:\\Users\\lukeb\\crypto-forecasting-capstone\\venv\\lib\\site-packages\\statsmodels\\tsa\\statespace\\sarimax.py:966: UserWarning: Non-stationary starting autoregressive parameters found. Using zeros as starting parameters.\n",
      "  warn('Non-stationary starting autoregressive parameters'\n",
      "c:\\Users\\lukeb\\crypto-forecasting-capstone\\venv\\lib\\site-packages\\statsmodels\\tsa\\statespace\\sarimax.py:978: UserWarning: Non-invertible starting MA parameters found. Using zeros as starting parameters.\n",
      "  warn('Non-invertible starting MA parameters found.'\n"
     ]
    },
    {
     "name": "stdout",
     "output_type": "stream",
     "text": [
      "Solana - Close_t+1: NaiveRMSE=1.14, ARIMARMSE=10.93\n",
      "Solana - Close_t+7: NaiveRMSE=3.52, ARIMARMSE=12.96\n",
      "Solana - Close_t+30: NaiveRMSE=14.52, ARIMARMSE=24.27\n",
      "Solana - Close_t+90: NaiveRMSE=26.62, ARIMARMSE=34.41\n",
      "\n",
      "=== Multi-Horizon Baseline for Stellar ===\n"
     ]
    },
    {
     "name": "stderr",
     "output_type": "stream",
     "text": [
      "c:\\Users\\lukeb\\crypto-forecasting-capstone\\venv\\lib\\site-packages\\statsmodels\\base\\model.py:607: ConvergenceWarning: Maximum Likelihood optimization failed to converge. Check mle_retvals\n",
      "  warnings.warn(\"Maximum Likelihood optimization failed to \"\n",
      "c:\\Users\\lukeb\\crypto-forecasting-capstone\\venv\\lib\\site-packages\\statsmodels\\base\\model.py:607: ConvergenceWarning: Maximum Likelihood optimization failed to converge. Check mle_retvals\n",
      "  warnings.warn(\"Maximum Likelihood optimization failed to \"\n",
      "c:\\Users\\lukeb\\crypto-forecasting-capstone\\venv\\lib\\site-packages\\statsmodels\\base\\model.py:607: ConvergenceWarning: Maximum Likelihood optimization failed to converge. Check mle_retvals\n",
      "  warnings.warn(\"Maximum Likelihood optimization failed to \"\n",
      "c:\\Users\\lukeb\\crypto-forecasting-capstone\\venv\\lib\\site-packages\\statsmodels\\base\\model.py:607: ConvergenceWarning: Maximum Likelihood optimization failed to converge. Check mle_retvals\n",
      "  warnings.warn(\"Maximum Likelihood optimization failed to \"\n",
      "c:\\Users\\lukeb\\crypto-forecasting-capstone\\venv\\lib\\site-packages\\statsmodels\\tsa\\statespace\\sarimax.py:966: UserWarning: Non-stationary starting autoregressive parameters found. Using zeros as starting parameters.\n",
      "  warn('Non-stationary starting autoregressive parameters'\n",
      "c:\\Users\\lukeb\\crypto-forecasting-capstone\\venv\\lib\\site-packages\\statsmodels\\tsa\\statespace\\sarimax.py:978: UserWarning: Non-invertible starting MA parameters found. Using zeros as starting parameters.\n",
      "  warn('Non-invertible starting MA parameters found.'\n",
      "c:\\Users\\lukeb\\crypto-forecasting-capstone\\venv\\lib\\site-packages\\statsmodels\\base\\model.py:607: ConvergenceWarning: Maximum Likelihood optimization failed to converge. Check mle_retvals\n",
      "  warnings.warn(\"Maximum Likelihood optimization failed to \"\n",
      "c:\\Users\\lukeb\\crypto-forecasting-capstone\\venv\\lib\\site-packages\\statsmodels\\tsa\\statespace\\sarimax.py:966: UserWarning: Non-stationary starting autoregressive parameters found. Using zeros as starting parameters.\n",
      "  warn('Non-stationary starting autoregressive parameters'\n",
      "c:\\Users\\lukeb\\crypto-forecasting-capstone\\venv\\lib\\site-packages\\statsmodels\\tsa\\statespace\\sarimax.py:978: UserWarning: Non-invertible starting MA parameters found. Using zeros as starting parameters.\n",
      "  warn('Non-invertible starting MA parameters found.'\n",
      "c:\\Users\\lukeb\\crypto-forecasting-capstone\\venv\\lib\\site-packages\\statsmodels\\base\\model.py:607: ConvergenceWarning: Maximum Likelihood optimization failed to converge. Check mle_retvals\n",
      "  warnings.warn(\"Maximum Likelihood optimization failed to \"\n"
     ]
    },
    {
     "name": "stdout",
     "output_type": "stream",
     "text": [
      "Stellar - Close_t+1: NaiveRMSE=0.01, ARIMARMSE=0.15\n",
      "Stellar - Close_t+7: NaiveRMSE=0.04, ARIMARMSE=0.17\n",
      "Stellar - Close_t+30: NaiveRMSE=0.07, ARIMARMSE=0.20\n",
      "Stellar - Close_t+90: NaiveRMSE=0.14, ARIMARMSE=0.24\n",
      "\n",
      "=== Multi-Horizon Baseline for Tether ===\n"
     ]
    },
    {
     "name": "stderr",
     "output_type": "stream",
     "text": [
      "c:\\Users\\lukeb\\crypto-forecasting-capstone\\venv\\lib\\site-packages\\statsmodels\\base\\model.py:607: ConvergenceWarning: Maximum Likelihood optimization failed to converge. Check mle_retvals\n",
      "  warnings.warn(\"Maximum Likelihood optimization failed to \"\n",
      "c:\\Users\\lukeb\\crypto-forecasting-capstone\\venv\\lib\\site-packages\\statsmodels\\base\\model.py:607: ConvergenceWarning: Maximum Likelihood optimization failed to converge. Check mle_retvals\n",
      "  warnings.warn(\"Maximum Likelihood optimization failed to \"\n",
      "c:\\Users\\lukeb\\crypto-forecasting-capstone\\venv\\lib\\site-packages\\statsmodels\\base\\model.py:607: ConvergenceWarning: Maximum Likelihood optimization failed to converge. Check mle_retvals\n",
      "  warnings.warn(\"Maximum Likelihood optimization failed to \"\n",
      "c:\\Users\\lukeb\\crypto-forecasting-capstone\\venv\\lib\\site-packages\\statsmodels\\base\\model.py:607: ConvergenceWarning: Maximum Likelihood optimization failed to converge. Check mle_retvals\n",
      "  warnings.warn(\"Maximum Likelihood optimization failed to \"\n",
      "c:\\Users\\lukeb\\crypto-forecasting-capstone\\venv\\lib\\site-packages\\statsmodels\\base\\model.py:607: ConvergenceWarning: Maximum Likelihood optimization failed to converge. Check mle_retvals\n",
      "  warnings.warn(\"Maximum Likelihood optimization failed to \"\n",
      "c:\\Users\\lukeb\\crypto-forecasting-capstone\\venv\\lib\\site-packages\\statsmodels\\tsa\\statespace\\sarimax.py:978: UserWarning: Non-invertible starting MA parameters found. Using zeros as starting parameters.\n",
      "  warn('Non-invertible starting MA parameters found.'\n",
      "c:\\Users\\lukeb\\crypto-forecasting-capstone\\venv\\lib\\site-packages\\statsmodels\\base\\model.py:607: ConvergenceWarning: Maximum Likelihood optimization failed to converge. Check mle_retvals\n",
      "  warnings.warn(\"Maximum Likelihood optimization failed to \"\n"
     ]
    },
    {
     "name": "stdout",
     "output_type": "stream",
     "text": [
      "Tether - Close_t+1: NaiveRMSE=0.00, ARIMARMSE=0.00\n",
      "Tether - Close_t+7: NaiveRMSE=0.00, ARIMARMSE=0.00\n",
      "Tether - Close_t+30: NaiveRMSE=0.00, ARIMARMSE=0.00\n",
      "Tether - Close_t+90: NaiveRMSE=0.00, ARIMARMSE=0.00\n",
      "\n",
      "=== Multi-Horizon Baseline for Tron ===\n"
     ]
    },
    {
     "name": "stderr",
     "output_type": "stream",
     "text": [
      "c:\\Users\\lukeb\\crypto-forecasting-capstone\\venv\\lib\\site-packages\\statsmodels\\tsa\\statespace\\sarimax.py:978: UserWarning: Non-invertible starting MA parameters found. Using zeros as starting parameters.\n",
      "  warn('Non-invertible starting MA parameters found.'\n",
      "c:\\Users\\lukeb\\crypto-forecasting-capstone\\venv\\lib\\site-packages\\statsmodels\\tsa\\statespace\\sarimax.py:978: UserWarning: Non-invertible starting MA parameters found. Using zeros as starting parameters.\n",
      "  warn('Non-invertible starting MA parameters found.'\n",
      "c:\\Users\\lukeb\\crypto-forecasting-capstone\\venv\\lib\\site-packages\\statsmodels\\base\\model.py:607: ConvergenceWarning: Maximum Likelihood optimization failed to converge. Check mle_retvals\n",
      "  warnings.warn(\"Maximum Likelihood optimization failed to \"\n",
      "c:\\Users\\lukeb\\crypto-forecasting-capstone\\venv\\lib\\site-packages\\statsmodels\\tsa\\statespace\\sarimax.py:966: UserWarning: Non-stationary starting autoregressive parameters found. Using zeros as starting parameters.\n",
      "  warn('Non-stationary starting autoregressive parameters'\n",
      "c:\\Users\\lukeb\\crypto-forecasting-capstone\\venv\\lib\\site-packages\\statsmodels\\tsa\\statespace\\sarimax.py:978: UserWarning: Non-invertible starting MA parameters found. Using zeros as starting parameters.\n",
      "  warn('Non-invertible starting MA parameters found.'\n",
      "c:\\Users\\lukeb\\crypto-forecasting-capstone\\venv\\lib\\site-packages\\statsmodels\\base\\model.py:607: ConvergenceWarning: Maximum Likelihood optimization failed to converge. Check mle_retvals\n",
      "  warnings.warn(\"Maximum Likelihood optimization failed to \"\n",
      "c:\\Users\\lukeb\\crypto-forecasting-capstone\\venv\\lib\\site-packages\\statsmodels\\tsa\\statespace\\sarimax.py:966: UserWarning: Non-stationary starting autoregressive parameters found. Using zeros as starting parameters.\n",
      "  warn('Non-stationary starting autoregressive parameters'\n",
      "c:\\Users\\lukeb\\crypto-forecasting-capstone\\venv\\lib\\site-packages\\statsmodels\\tsa\\statespace\\sarimax.py:978: UserWarning: Non-invertible starting MA parameters found. Using zeros as starting parameters.\n",
      "  warn('Non-invertible starting MA parameters found.'\n",
      "c:\\Users\\lukeb\\crypto-forecasting-capstone\\venv\\lib\\site-packages\\statsmodels\\base\\model.py:607: ConvergenceWarning: Maximum Likelihood optimization failed to converge. Check mle_retvals\n",
      "  warnings.warn(\"Maximum Likelihood optimization failed to \"\n"
     ]
    },
    {
     "name": "stdout",
     "output_type": "stream",
     "text": [
      "Tron - Close_t+1: NaiveRMSE=0.00, ARIMARMSE=0.02\n",
      "Tron - Close_t+7: NaiveRMSE=0.01, ARIMARMSE=0.03\n",
      "Tron - Close_t+30: NaiveRMSE=0.03, ARIMARMSE=0.04\n",
      "Tron - Close_t+90: NaiveRMSE=0.04, ARIMARMSE=0.05\n",
      "\n",
      "=== Multi-Horizon Baseline for Uniswap ===\n"
     ]
    },
    {
     "name": "stderr",
     "output_type": "stream",
     "text": [
      "c:\\Users\\lukeb\\crypto-forecasting-capstone\\venv\\lib\\site-packages\\statsmodels\\tsa\\statespace\\sarimax.py:966: UserWarning: Non-stationary starting autoregressive parameters found. Using zeros as starting parameters.\n",
      "  warn('Non-stationary starting autoregressive parameters'\n",
      "c:\\Users\\lukeb\\crypto-forecasting-capstone\\venv\\lib\\site-packages\\statsmodels\\tsa\\statespace\\sarimax.py:966: UserWarning: Non-stationary starting autoregressive parameters found. Using zeros as starting parameters.\n",
      "  warn('Non-stationary starting autoregressive parameters'\n",
      "c:\\Users\\lukeb\\crypto-forecasting-capstone\\venv\\lib\\site-packages\\statsmodels\\tsa\\statespace\\sarimax.py:966: UserWarning: Non-stationary starting autoregressive parameters found. Using zeros as starting parameters.\n",
      "  warn('Non-stationary starting autoregressive parameters'\n",
      "c:\\Users\\lukeb\\crypto-forecasting-capstone\\venv\\lib\\site-packages\\statsmodels\\tsa\\statespace\\sarimax.py:966: UserWarning: Non-stationary starting autoregressive parameters found. Using zeros as starting parameters.\n",
      "  warn('Non-stationary starting autoregressive parameters'\n",
      "c:\\Users\\lukeb\\crypto-forecasting-capstone\\venv\\lib\\site-packages\\statsmodels\\tsa\\statespace\\sarimax.py:978: UserWarning: Non-invertible starting MA parameters found. Using zeros as starting parameters.\n",
      "  warn('Non-invertible starting MA parameters found.'\n",
      "c:\\Users\\lukeb\\crypto-forecasting-capstone\\venv\\lib\\site-packages\\statsmodels\\tsa\\statespace\\sarimax.py:966: UserWarning: Non-stationary starting autoregressive parameters found. Using zeros as starting parameters.\n",
      "  warn('Non-stationary starting autoregressive parameters'\n",
      "c:\\Users\\lukeb\\crypto-forecasting-capstone\\venv\\lib\\site-packages\\statsmodels\\tsa\\statespace\\sarimax.py:966: UserWarning: Non-stationary starting autoregressive parameters found. Using zeros as starting parameters.\n",
      "  warn('Non-stationary starting autoregressive parameters'\n",
      "c:\\Users\\lukeb\\crypto-forecasting-capstone\\venv\\lib\\site-packages\\statsmodels\\tsa\\statespace\\sarimax.py:966: UserWarning: Non-stationary starting autoregressive parameters found. Using zeros as starting parameters.\n",
      "  warn('Non-stationary starting autoregressive parameters'\n",
      "c:\\Users\\lukeb\\crypto-forecasting-capstone\\venv\\lib\\site-packages\\statsmodels\\tsa\\statespace\\sarimax.py:978: UserWarning: Non-invertible starting MA parameters found. Using zeros as starting parameters.\n",
      "  warn('Non-invertible starting MA parameters found.'\n",
      "c:\\Users\\lukeb\\crypto-forecasting-capstone\\venv\\lib\\site-packages\\statsmodels\\tsa\\statespace\\sarimax.py:966: UserWarning: Non-stationary starting autoregressive parameters found. Using zeros as starting parameters.\n",
      "  warn('Non-stationary starting autoregressive parameters'\n",
      "c:\\Users\\lukeb\\crypto-forecasting-capstone\\venv\\lib\\site-packages\\statsmodels\\tsa\\statespace\\sarimax.py:978: UserWarning: Non-invertible starting MA parameters found. Using zeros as starting parameters.\n",
      "  warn('Non-invertible starting MA parameters found.'\n",
      "c:\\Users\\lukeb\\crypto-forecasting-capstone\\venv\\lib\\site-packages\\statsmodels\\tsa\\statespace\\sarimax.py:966: UserWarning: Non-stationary starting autoregressive parameters found. Using zeros as starting parameters.\n",
      "  warn('Non-stationary starting autoregressive parameters'\n",
      "c:\\Users\\lukeb\\crypto-forecasting-capstone\\venv\\lib\\site-packages\\statsmodels\\tsa\\statespace\\sarimax.py:978: UserWarning: Non-invertible starting MA parameters found. Using zeros as starting parameters.\n",
      "  warn('Non-invertible starting MA parameters found.'\n",
      "c:\\Users\\lukeb\\crypto-forecasting-capstone\\venv\\lib\\site-packages\\statsmodels\\tsa\\statespace\\sarimax.py:978: UserWarning: Non-invertible starting MA parameters found. Using zeros as starting parameters.\n",
      "  warn('Non-invertible starting MA parameters found.'\n",
      "c:\\Users\\lukeb\\crypto-forecasting-capstone\\venv\\lib\\site-packages\\statsmodels\\tsa\\statespace\\sarimax.py:966: UserWarning: Non-stationary starting autoregressive parameters found. Using zeros as starting parameters.\n",
      "  warn('Non-stationary starting autoregressive parameters'\n",
      "c:\\Users\\lukeb\\crypto-forecasting-capstone\\venv\\lib\\site-packages\\statsmodels\\tsa\\statespace\\sarimax.py:978: UserWarning: Non-invertible starting MA parameters found. Using zeros as starting parameters.\n",
      "  warn('Non-invertible starting MA parameters found.'\n"
     ]
    },
    {
     "name": "stdout",
     "output_type": "stream",
     "text": [
      "Uniswap - Close_t+1: NaiveRMSE=1.71, ARIMARMSE=5.53\n",
      "Uniswap - Close_t+7: NaiveRMSE=3.35, ARIMARMSE=6.11\n",
      "Uniswap - Close_t+30: NaiveRMSE=7.40, ARIMARMSE=11.17\n",
      "Uniswap - Close_t+90: NaiveRMSE=9.45, ARIMARMSE=5.05\n",
      "\n",
      "=== Multi-Horizon Baseline for USDCoin ===\n"
     ]
    },
    {
     "name": "stderr",
     "output_type": "stream",
     "text": [
      "c:\\Users\\lukeb\\crypto-forecasting-capstone\\venv\\lib\\site-packages\\statsmodels\\base\\model.py:607: ConvergenceWarning: Maximum Likelihood optimization failed to converge. Check mle_retvals\n",
      "  warnings.warn(\"Maximum Likelihood optimization failed to \"\n",
      "c:\\Users\\lukeb\\crypto-forecasting-capstone\\venv\\lib\\site-packages\\statsmodels\\tsa\\statespace\\sarimax.py:978: UserWarning: Non-invertible starting MA parameters found. Using zeros as starting parameters.\n",
      "  warn('Non-invertible starting MA parameters found.'\n",
      "c:\\Users\\lukeb\\crypto-forecasting-capstone\\venv\\lib\\site-packages\\statsmodels\\base\\model.py:607: ConvergenceWarning: Maximum Likelihood optimization failed to converge. Check mle_retvals\n",
      "  warnings.warn(\"Maximum Likelihood optimization failed to \"\n",
      "c:\\Users\\lukeb\\crypto-forecasting-capstone\\venv\\lib\\site-packages\\statsmodels\\base\\model.py:607: ConvergenceWarning: Maximum Likelihood optimization failed to converge. Check mle_retvals\n",
      "  warnings.warn(\"Maximum Likelihood optimization failed to \"\n",
      "c:\\Users\\lukeb\\crypto-forecasting-capstone\\venv\\lib\\site-packages\\statsmodels\\tsa\\statespace\\sarimax.py:978: UserWarning: Non-invertible starting MA parameters found. Using zeros as starting parameters.\n",
      "  warn('Non-invertible starting MA parameters found.'\n",
      "c:\\Users\\lukeb\\crypto-forecasting-capstone\\venv\\lib\\site-packages\\statsmodels\\tsa\\statespace\\sarimax.py:966: UserWarning: Non-stationary starting autoregressive parameters found. Using zeros as starting parameters.\n",
      "  warn('Non-stationary starting autoregressive parameters'\n",
      "c:\\Users\\lukeb\\crypto-forecasting-capstone\\venv\\lib\\site-packages\\statsmodels\\base\\model.py:607: ConvergenceWarning: Maximum Likelihood optimization failed to converge. Check mle_retvals\n",
      "  warnings.warn(\"Maximum Likelihood optimization failed to \"\n",
      "c:\\Users\\lukeb\\crypto-forecasting-capstone\\venv\\lib\\site-packages\\statsmodels\\base\\model.py:607: ConvergenceWarning: Maximum Likelihood optimization failed to converge. Check mle_retvals\n",
      "  warnings.warn(\"Maximum Likelihood optimization failed to \"\n"
     ]
    },
    {
     "name": "stdout",
     "output_type": "stream",
     "text": [
      "USDCoin - Close_t+1: NaiveRMSE=0.00, ARIMARMSE=0.00\n",
      "USDCoin - Close_t+7: NaiveRMSE=0.00, ARIMARMSE=0.00\n",
      "USDCoin - Close_t+30: NaiveRMSE=0.00, ARIMARMSE=0.00\n",
      "USDCoin - Close_t+90: NaiveRMSE=0.00, ARIMARMSE=0.00\n",
      "\n",
      "=== Multi-Horizon Baseline for WrappedBitcoin ===\n"
     ]
    },
    {
     "name": "stderr",
     "output_type": "stream",
     "text": [
      "c:\\Users\\lukeb\\crypto-forecasting-capstone\\venv\\lib\\site-packages\\statsmodels\\tsa\\statespace\\sarimax.py:966: UserWarning: Non-stationary starting autoregressive parameters found. Using zeros as starting parameters.\n",
      "  warn('Non-stationary starting autoregressive parameters'\n",
      "c:\\Users\\lukeb\\crypto-forecasting-capstone\\venv\\lib\\site-packages\\statsmodels\\tsa\\statespace\\sarimax.py:978: UserWarning: Non-invertible starting MA parameters found. Using zeros as starting parameters.\n",
      "  warn('Non-invertible starting MA parameters found.'\n"
     ]
    },
    {
     "name": "stdout",
     "output_type": "stream",
     "text": [
      "WrappedBitcoin - Close_t+1: NaiveRMSE=1667.78, ARIMARMSE=26119.09\n",
      "WrappedBitcoin - Close_t+7: NaiveRMSE=4788.57, ARIMARMSE=27637.09\n",
      "WrappedBitcoin - Close_t+30: NaiveRMSE=10129.64, ARIMARMSE=31865.84\n",
      "WrappedBitcoin - Close_t+90: NaiveRMSE=24861.82, ARIMARMSE=34435.13\n",
      "\n",
      "=== Multi-Horizon Baseline for XRP ===\n"
     ]
    },
    {
     "name": "stderr",
     "output_type": "stream",
     "text": [
      "c:\\Users\\lukeb\\crypto-forecasting-capstone\\venv\\lib\\site-packages\\statsmodels\\tsa\\statespace\\sarimax.py:978: UserWarning: Non-invertible starting MA parameters found. Using zeros as starting parameters.\n",
      "  warn('Non-invertible starting MA parameters found.'\n",
      "c:\\Users\\lukeb\\crypto-forecasting-capstone\\venv\\lib\\site-packages\\statsmodels\\tsa\\statespace\\sarimax.py:978: UserWarning: Non-invertible starting MA parameters found. Using zeros as starting parameters.\n",
      "  warn('Non-invertible starting MA parameters found.'\n",
      "c:\\Users\\lukeb\\crypto-forecasting-capstone\\venv\\lib\\site-packages\\statsmodels\\base\\model.py:607: ConvergenceWarning: Maximum Likelihood optimization failed to converge. Check mle_retvals\n",
      "  warnings.warn(\"Maximum Likelihood optimization failed to \"\n",
      "c:\\Users\\lukeb\\crypto-forecasting-capstone\\venv\\lib\\site-packages\\statsmodels\\tsa\\statespace\\sarimax.py:966: UserWarning: Non-stationary starting autoregressive parameters found. Using zeros as starting parameters.\n",
      "  warn('Non-stationary starting autoregressive parameters'\n",
      "c:\\Users\\lukeb\\crypto-forecasting-capstone\\venv\\lib\\site-packages\\statsmodels\\tsa\\statespace\\sarimax.py:978: UserWarning: Non-invertible starting MA parameters found. Using zeros as starting parameters.\n",
      "  warn('Non-invertible starting MA parameters found.'\n",
      "c:\\Users\\lukeb\\crypto-forecasting-capstone\\venv\\lib\\site-packages\\statsmodels\\tsa\\statespace\\sarimax.py:966: UserWarning: Non-stationary starting autoregressive parameters found. Using zeros as starting parameters.\n",
      "  warn('Non-stationary starting autoregressive parameters'\n",
      "c:\\Users\\lukeb\\crypto-forecasting-capstone\\venv\\lib\\site-packages\\statsmodels\\tsa\\statespace\\sarimax.py:978: UserWarning: Non-invertible starting MA parameters found. Using zeros as starting parameters.\n",
      "  warn('Non-invertible starting MA parameters found.'\n",
      "c:\\Users\\lukeb\\crypto-forecasting-capstone\\venv\\lib\\site-packages\\statsmodels\\base\\model.py:607: ConvergenceWarning: Maximum Likelihood optimization failed to converge. Check mle_retvals\n",
      "  warnings.warn(\"Maximum Likelihood optimization failed to \"\n"
     ]
    },
    {
     "name": "stdout",
     "output_type": "stream",
     "text": [
      "XRP - Close_t+1: NaiveRMSE=0.03, ARIMARMSE=0.17\n",
      "XRP - Close_t+7: NaiveRMSE=0.10, ARIMARMSE=0.22\n",
      "XRP - Close_t+30: NaiveRMSE=0.24, ARIMARMSE=0.33\n",
      "XRP - Close_t+90: NaiveRMSE=0.34, ARIMARMSE=0.43\n",
      "\n",
      "=== Saved multi-horizon baseline results to: ../data\\baseline_results_multihorizon.csv\n",
      "             Coin     Horizon    Naive_RMSE    Naive_MAE ARIMA_Order  \\\n",
      "0            Aave   Close_t+1     18.265138    15.094809   (1, 1, 2)   \n",
      "1            Aave   Close_t+7     37.906837    32.636441   (1, 1, 2)   \n",
      "2            Aave  Close_t+30     63.201110    52.020578   (1, 1, 2)   \n",
      "3            Aave  Close_t+90    110.123263   101.843564   (1, 1, 2)   \n",
      "4     BinanceCoin   Close_t+1     13.630565     5.007229   (2, 1, 2)   \n",
      "5     BinanceCoin   Close_t+7     40.087401    16.957944   (2, 1, 2)   \n",
      "6     BinanceCoin  Close_t+30    112.771262    61.253317   (2, 1, 2)   \n",
      "7     BinanceCoin  Close_t+90    227.229684   143.219464   (2, 1, 2)   \n",
      "8         Bitcoin   Close_t+1    902.244539   452.576487   (2, 1, 2)   \n",
      "9         Bitcoin   Close_t+7   2590.010956  1415.755691   (2, 1, 2)   \n",
      "10        Bitcoin  Close_t+30   5575.821150  3439.883973   (2, 1, 2)   \n",
      "11        Bitcoin  Close_t+90  14373.216779  9325.738407   (2, 1, 2)   \n",
      "12        Cardano   Close_t+1      0.039211     0.019161   (1, 1, 2)   \n",
      "13        Cardano   Close_t+7      0.100174     0.053904   (1, 1, 2)   \n",
      "14        Cardano  Close_t+30      0.267846     0.155314   (1, 1, 2)   \n",
      "15        Cardano  Close_t+90      0.643171     0.495029   (1, 1, 2)   \n",
      "16      ChainLink   Close_t+1      1.279745     0.915406   (2, 1, 2)   \n",
      "17      ChainLink   Close_t+7      3.047182     2.277650   (2, 1, 2)   \n",
      "18      ChainLink  Close_t+30      6.325921     4.860763   (2, 1, 2)   \n",
      "19      ChainLink  Close_t+90     11.745803     9.649841   (2, 1, 2)   \n",
      "20         Cosmos   Close_t+1      0.940718     0.627350   (2, 1, 1)   \n",
      "21         Cosmos   Close_t+7      2.751056     1.773860   (2, 1, 1)   \n",
      "22         Cosmos  Close_t+30      5.834998     4.049555   (2, 1, 1)   \n",
      "23         Cosmos  Close_t+90     12.380022    11.585608   (2, 1, 1)   \n",
      "24  CryptocomCoin   Close_t+1      0.011014     0.005724   (1, 0, 0)   \n",
      "25  CryptocomCoin   Close_t+7      0.022156     0.014562   (1, 0, 0)   \n",
      "26  CryptocomCoin  Close_t+30      0.051005     0.036726   (1, 0, 0)   \n",
      "27  CryptocomCoin  Close_t+90      0.102021     0.088952   (1, 0, 0)   \n",
      "28       Dogecoin   Close_t+1      0.002433     0.000650   (2, 0, 0)   \n",
      "29       Dogecoin   Close_t+7      0.006585     0.001981   (2, 0, 0)   \n",
      "\n",
      "      ARIMA_RMSE     ARIMA_MAE  \n",
      "0      31.150572     24.909463  \n",
      "1      26.017006     20.809264  \n",
      "2      70.792674     55.039269  \n",
      "3     100.999329     87.363171  \n",
      "4     115.622630     61.463154  \n",
      "5     138.545209     72.837951  \n",
      "6     213.250181    119.916680  \n",
      "7     278.967931    199.999661  \n",
      "8   15788.439847   8299.504965  \n",
      "9   16604.603136   8822.252842  \n",
      "10  18916.859479  10568.340040  \n",
      "11  21099.402741  13296.032341  \n",
      "12      0.481470      0.277533  \n",
      "13      0.513891      0.304875  \n",
      "14      0.624918      0.409815  \n",
      "15      0.937916      0.734347  \n",
      "16     12.530808      9.905608  \n",
      "17     13.210098     10.531779  \n",
      "18     16.225360     12.787703  \n",
      "19     19.287314     16.552177  \n",
      "20     10.345030      7.541821  \n",
      "21     11.034302      8.278162  \n",
      "22     13.229662     10.980047  \n",
      "23     14.896774     14.142784  \n",
      "24      0.062839      0.047504  \n",
      "25      0.067846      0.052305  \n",
      "26      0.078249      0.064231  \n",
      "27      0.076617      0.064708  \n",
      "28      0.019921      0.008261  \n",
      "29      0.021753      0.009156  \n"
     ]
    },
    {
     "name": "stderr",
     "output_type": "stream",
     "text": [
      "c:\\Users\\lukeb\\crypto-forecasting-capstone\\venv\\lib\\site-packages\\statsmodels\\base\\model.py:607: ConvergenceWarning: Maximum Likelihood optimization failed to converge. Check mle_retvals\n",
      "  warnings.warn(\"Maximum Likelihood optimization failed to \"\n"
     ]
    }
   ],
   "source": [
    "# 04_multihorizon_baseline_ratio.ipynb\n",
    "\n",
    "import os\n",
    "import pandas as pd\n",
    "import numpy as np\n",
    "import matplotlib.pyplot as plt\n",
    "import seaborn as sns\n",
    "\n",
    "from statsmodels.tsa.arima.model import ARIMA\n",
    "\n",
    "sns.set_theme(font_scale=1.1)\n",
    "\n",
    "DATA_FOLDER = '../data'\n",
    "\n",
    "all_coins = [\n",
    "    \"Aave\",\n",
    "    \"BinanceCoin\",\n",
    "    \"Bitcoin\",\n",
    "    \"Cardano\",\n",
    "    \"ChainLink\",\n",
    "    \"Cosmos\",\n",
    "    \"CryptocomCoin\",\n",
    "    \"Dogecoin\",\n",
    "    \"EOS\",\n",
    "    \"Ethereum\",\n",
    "    \"Iota\",\n",
    "    \"Litecoin\",\n",
    "    \"Monero\",\n",
    "    \"NEM\",\n",
    "    \"Polkadot\",\n",
    "    \"Solana\",\n",
    "    \"Stellar\",\n",
    "    \"Tether\",\n",
    "    \"Tron\",\n",
    "    \"Uniswap\",\n",
    "    \"USDCoin\",\n",
    "    \"WrappedBitcoin\",\n",
    "    \"XRP\"\n",
    "]\n",
    "\n",
    "def rmse(y_true, y_pred):\n",
    "    return np.sqrt(np.mean((y_true - y_pred)**2))\n",
    "\n",
    "def mae(y_true, y_pred):\n",
    "    return np.mean(np.abs(y_true - y_pred))\n",
    "\n",
    "def find_best_arima(train_series, p_range=(0,2), d_range=(0,2), q_range=(0,2)):\n",
    "    best_aic = float('inf')\n",
    "    best_order = None\n",
    "    best_model_fit = None\n",
    "\n",
    "    for p in range(p_range[0], p_range[1]+1):\n",
    "        for d in range(d_range[0], d_range[1]+1):\n",
    "            for q in range(q_range[0], q_range[1]+1):\n",
    "                try:\n",
    "                    model = ARIMA(train_series, order=(p,d,q))\n",
    "                    fitted = model.fit()\n",
    "                    if fitted.aic < best_aic:\n",
    "                        best_aic = fitted.aic\n",
    "                        best_order = (p,d,q)\n",
    "                        best_model_fit = fitted\n",
    "                except:\n",
    "                    continue\n",
    "    return best_order, best_model_fit\n",
    "\n",
    "# We'll look for these horizon columns\n",
    "horizons = ['Close_t+1','Close_t+7','Close_t+30','Close_t+90']\n",
    "\n",
    "results = []\n",
    "\n",
    "for coin in all_coins:\n",
    "    print(f\"\\n=== Multi-Horizon Baseline for {coin} ===\")\n",
    "    train_csv = f\"{coin.lower()}_train_multi.csv\"\n",
    "    test_csv  = f\"{coin.lower()}_test_multi.csv\"\n",
    "\n",
    "    train_path = os.path.join(DATA_FOLDER, train_csv)\n",
    "    test_path  = os.path.join(DATA_FOLDER, test_csv)\n",
    "\n",
    "    if not (os.path.exists(train_path) and os.path.exists(test_path)):\n",
    "        print(f\"[{coin}] Missing multi-horizon train/test, skipping coin.\")\n",
    "        continue\n",
    "\n",
    "    train_df = pd.read_csv(train_path, parse_dates=['Date'])\n",
    "    test_df  = pd.read_csv(test_path,  parse_dates=['Date'])\n",
    "\n",
    "    if len(train_df) < 20:\n",
    "        print(f\"[{coin}] Train set <20 rows, skipping ARIMA.\")\n",
    "        continue\n",
    "    if len(test_df) == 0:\n",
    "        print(f\"[{coin}] Test set empty, skipping coin.\")\n",
    "        continue\n",
    "\n",
    "    # ARIMA on train's 'Close'\n",
    "    train_close = train_df['Close']\n",
    "    best_order, best_fit = find_best_arima(train_close)\n",
    "    if best_fit is None:\n",
    "        print(f\"[{coin}] No ARIMA found for p,d,q up to (2,2,2). Skipping coin.\")\n",
    "        continue\n",
    "\n",
    "    # We'll forecast the entire test length\n",
    "    steps_needed = len(test_df)\n",
    "    if steps_needed <= 0:\n",
    "        print(f\"[{coin}] steps_needed={steps_needed}, skipping coin.\")\n",
    "        continue\n",
    "\n",
    "    try:\n",
    "        forecast_values = best_fit.forecast(steps=steps_needed)\n",
    "        test_df['arima_pred_close'] = forecast_values.values\n",
    "    except ValueError as e:\n",
    "        print(f\"[{coin}] ARIMA forecast error: {e}\")\n",
    "        continue\n",
    "\n",
    "    # Evaluate each horizon\n",
    "    for horizon_col in horizons:\n",
    "        if horizon_col not in test_df.columns:\n",
    "            continue\n",
    "\n",
    "        # If it's all NaN, skip\n",
    "        if test_df[horizon_col].isna().all():\n",
    "            print(f\"[{coin}] {horizon_col} is all NaN, skipping horizon.\")\n",
    "            continue\n",
    "\n",
    "        # Naive approach\n",
    "        test_df[f'naive_{horizon_col}'] = test_df['Close']  # same-day price\n",
    "        y_true = test_df[horizon_col]\n",
    "        y_naive = test_df[f'naive_{horizon_col}']\n",
    "\n",
    "        naive_rmse_val = rmse(y_true, y_naive)\n",
    "        naive_mae_val  = mae(y_true, y_naive)\n",
    "\n",
    "        # ARIMA approach\n",
    "        y_arima = test_df['arima_pred_close']\n",
    "        arima_rmse_val = rmse(y_true, y_arima)\n",
    "        arima_mae_val  = mae(y_true, y_arima)\n",
    "\n",
    "        print(f\"{coin} - {horizon_col}: NaiveRMSE={naive_rmse_val:.2f}, ARIMARMSE={arima_rmse_val:.2f}\")\n",
    "\n",
    "        results.append({\n",
    "            'Coin': coin,\n",
    "            'Horizon': horizon_col,\n",
    "            'Naive_RMSE': naive_rmse_val,\n",
    "            'Naive_MAE': naive_mae_val,\n",
    "            'ARIMA_Order': best_order,\n",
    "            'ARIMA_RMSE': arima_rmse_val,\n",
    "            'ARIMA_MAE': arima_mae_val\n",
    "        })\n",
    "\n",
    "# Save results\n",
    "results_df = pd.DataFrame(results)\n",
    "out_csv = os.path.join(DATA_FOLDER, 'baseline_results_multihorizon.csv')\n",
    "results_df.to_csv(out_csv, index=False)\n",
    "print(f\"\\n=== Saved multi-horizon baseline results to: {out_csv}\")\n",
    "print(results_df.head(30))\n"
   ]
  }
 ],
 "metadata": {
  "kernelspec": {
   "display_name": "venv",
   "language": "python",
   "name": "python3"
  },
  "language_info": {
   "codemirror_mode": {
    "name": "ipython",
    "version": 3
   },
   "file_extension": ".py",
   "mimetype": "text/x-python",
   "name": "python",
   "nbconvert_exporter": "python",
   "pygments_lexer": "ipython3",
   "version": "3.10.11"
  }
 },
 "nbformat": 4,
 "nbformat_minor": 2
}
